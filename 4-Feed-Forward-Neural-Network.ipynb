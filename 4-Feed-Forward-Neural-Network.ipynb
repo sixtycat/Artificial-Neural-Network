{
 "cells": [
  {
   "cell_type": "markdown",
   "metadata": {},
   "source": []
  },
  {
   "cell_type": "code",
   "execution_count": 51,
   "metadata": {},
   "outputs": [],
   "source": [
    "def load(dataset = \"training\", path = \".\"):\n",
    "    \"\"\"\n",
    "    Import either the training or testing MNIST data set.\n",
    "    It returns a pair with the first element being the collection of\n",
    "    images stacked in columns and the second element being a vector\n",
    "    of corresponding labels from 0 to 9.\n",
    "\n",
    "    Example:\n",
    "        x, lbl = load(dataset = \"training\", path = \"/datasets/MNIST\")\n",
    "    \"\"\"\n",
    "    import os\n",
    "    import struct\n",
    "    import numpy as np\n",
    "\n",
    "    if dataset is \"training\":\n",
    "        fname_img = os.path.join(path, 'train-images.idx3-ubyte')\n",
    "        fname_lbl = os.path.join(path, 'train-labels.idx1-ubyte')\n",
    "    elif dataset is \"testing\":\n",
    "        fname_img = os.path.join(path, 't10k-images.idx3-ubyte')\n",
    "        fname_lbl = os.path.join(path, 't10k-labels.idx1-ubyte')\n",
    "    else:\n",
    "        raise ValueError(\"dataset must be 'testing' or 'training'\")\n",
    "\n",
    "    # Load everything in some numpy arrays\n",
    "    with open(fname_lbl, 'rb') as flbl:\n",
    "        magic, num = struct.unpack(\">II\", flbl.read(8))\n",
    "        lbl = np.fromfile(flbl, dtype=np.int8)\n",
    "\n",
    "    with open(fname_img, 'rb') as fimg:\n",
    "        magic, num, rows, cols = struct.unpack(\">IIII\", fimg.read(16))\n",
    "        img = np.fromfile(fimg, dtype=np.uint8).reshape(len(lbl), rows * cols)\n",
    "\n",
    "    img = np.moveaxis(img, 0, -1)\n",
    "\n",
    "    return img, lbl\n",
    "\n",
    "import os\n",
    "import numpy as np\n",
    "import matplotlib.pyplot as plt\n",
    "data_used, label_used = load(dataset = 'training', path = 'MNIST')\n"
   ]
  },
  {
   "cell_type": "code",
   "execution_count": 66,
   "metadata": {},
   "outputs": [],
   "source": [
    "def normalize_MNIST_images(x):\n",
    "    x = np.array(x)\n",
    "    val_max = np.max(x, axis = 0)\n",
    "    val_min = np.min(x, axis = 0)\n",
    "    \n",
    "    x = 2 * (x - val_min) / (val_max - val_min) - 1\n",
    "    return x.astype(np.float64)\n",
    "\n",
    "def label2onehot(lbl):\n",
    "    d = np.zeros((lbl.max() + 1, lbl.size))\n",
    "    d[lbl, np.arange(0, lbl.size)] = 1\n",
    "    return d\n",
    "\n",
    "def onehot2label(d):\n",
    "    lbl = d.argmax(axis = 0)\n",
    "    return lbl\n",
    "\n",
    "def activation_func(input_x, method = 'relu'):\n",
    "    if method == 'relu':\n",
    "        return np.multiply(input_x, input_x > 0) \n",
    "\n",
    "def activation_funcp(input_x, method = 'relu'):\n",
    "    if method == 'relu':\n",
    "        return input_x > 0\n",
    "\n"
   ]
  },
  {
   "cell_type": "code",
   "execution_count": 67,
   "metadata": {},
   "outputs": [],
   "source": [
    "\n",
    "def build_net(net_paras):\n",
    "    \n",
    "    layer_num = len(net_paras)\n",
    "    net_dict = dict()\n",
    "    for i in range(1, layer_num):\n",
    "        \n",
    "        w_sigma = 1 / np.sqrt((net_paras[i-1]+1)/2)\n",
    "        b_sigma = 1 / np.sqrt((net_paras[i-1]+1)/2)\n",
    "                               \n",
    "        net_dict['layer_wbaz' + str(i)] = [w_sigma * np.mat(np.random.randn(net_paras[i], net_paras[i-1])),\n",
    "                                        b_sigma * np.mat(np.random.randn(net_paras[i], 1)),\n",
    "                                        np.mat(np.zeros((net_paras[i],1))),\n",
    "                                        np.mat(np.zeros((net_paras[i],1)))]\n",
    "        \n",
    "    return net_dict\n",
    "    \n",
    "    "
   ]
  },
  {
   "cell_type": "code",
   "execution_count": 68,
   "metadata": {},
   "outputs": [],
   "source": [
    "def softmax(input_x):\n",
    "    temp = np.exp(input_x - np.max( input_x, axis = 0))\n",
    "    return temp / np.sum(temp,axis = 0)\n",
    "    \n",
    "def eval_loss(y,d):\n",
    "    E = -(np.multiply(d,np.log(y)) + np.multiply((1-d),np.log(1-y))).mean()\n",
    "    return E"
   ]
  },
  {
   "cell_type": "code",
   "execution_count": 69,
   "metadata": {},
   "outputs": [],
   "source": [
    "def forward_prop(x, net):\n",
    "\n",
    "    for i in range(1, len(net)+1):\n",
    "        ai = net['layer_wbaz' + str(i)][0] * x + net['layer_wbaz' + str(i)][1]\n",
    "        zi = activation_func(ai)\n",
    "        net['layer_wbaz' + str(i)][2] = ai\n",
    "        net['layer_wbaz' + str(i)][3] = zi\n",
    "        x = zi\n",
    "        #print('layer_wbaz' + str(i), net['layer_wbaz' + str(i)][0].shape)\n",
    "        \n",
    "    y = softmax(x)\n",
    "    \n",
    "    return y\n"
   ]
  },
  {
   "cell_type": "code",
   "execution_count": 70,
   "metadata": {},
   "outputs": [],
   "source": [
    "def delta_softmax(y ,d):\n",
    "    dE_dy = -(np.divide(d, y) + np.divide(1-d, 1-y))\n",
    "    delta = np.multiply(y, dE_dy) - np.multiply(y, np.sum(np.multiply(y, dE_dy),axis = 0))\n",
    "\n",
    "    return delta\n"
   ]
  },
  {
   "cell_type": "code",
   "execution_count": 71,
   "metadata": {},
   "outputs": [],
   "source": [
    "\n",
    "def update_back_prop(x, d, net, gamma = 0.05):\n",
    "    \n",
    "    y = forward_prop(x, net)\n",
    "    \n",
    "    #print('update_len_net', len(net))\n",
    "    \n",
    "    delta_last = delta_softmax(y, d)\n",
    "    delta_back = delta_last\n",
    "    \n",
    "    gamma = gamma / d.shape[1]\n",
    "    \n",
    "    for i in range(len(net) -1 , 0 , -1):\n",
    "        delta_front = np.multiply( \n",
    "                        activation_funcp(net['layer_wbaz' + str(i)][2] ),\n",
    "                        net['layer_wbaz' + str(i+1)][0].T * delta_back)\n",
    "        \n",
    "        # calculate delta of w and b\n",
    "        delta_w_temp = np.dot(delta_back,\n",
    "                             net['layer_wbaz' + str(i)][3].T)\n",
    "        delta_b_temp = np.dot(delta_back,\n",
    "                             np.ones((d.shape[1],1)))\n",
    "        # update weight w and bias b\n",
    "        \n",
    "        net['layer_wbaz' + str(i+1)][0] -= gamma * delta_w_temp\n",
    "        net['layer_wbaz' + str(i+1)][1] -= gamma * delta_b_temp\n",
    "        \n",
    "        delta_back = delta_front\n",
    "        \n",
    "    delta_w_temp = np.dot(delta_back, x.T)\n",
    "    delta_b_temp = np.dot(delta_back, np.ones((x.shape[1],1)))\n",
    "    '''\n",
    "    print('delta_w_temp',delta_w_temp)\n",
    "    print('delta_b_temp', delta_b_temp)\n",
    "    '''\n",
    "    net['layer_wbaz' + str(1)][0] -= gamma * delta_w_temp\n",
    "    net['layer_wbaz' + str(1)][1] -= gamma * delta_b_temp\n",
    "    \n",
    "    return net\n",
    "    "
   ]
  },
  {
   "cell_type": "code",
   "execution_count": 72,
   "metadata": {},
   "outputs": [],
   "source": [
    "def back_prop( x, d, net, T, gamma = 0.05):\n",
    "    from tqdm import tqdm_notebook as tqdm\n",
    "    \n",
    "    label = onehot2label(d)\n",
    "    loss_train = []\n",
    "    loss_test = []\n",
    "    \n",
    "    for t in tqdm(range(0,T)):\n",
    "        \n",
    "        net = update_back_prop(x, d, net, gamma = 0.05)\n",
    "        y_temp_train = forward_prop(x, net)\n",
    "        loss_train.append(eval_loss(y_temp_train, d))\n",
    "        y_temp_test = forward_prop(x_test, net)\n",
    "        loss_test.append(eval_loss(y_temp_test, d_test))\n",
    "        \n",
    "    plt.figure(1)\n",
    "    plt.plot(loss_train)\n",
    "    plt.plot(loss_test)\n",
    "    plt.title('loss')\n",
    "    plt.legend(['train loss','test loss'])\n",
    "    plt.show()\n",
    "    \n",
    "    return net\n",
    "\n"
   ]
  },
  {
   "cell_type": "code",
   "execution_count": 73,
   "metadata": {},
   "outputs": [
    {
     "data": {
      "application/vnd.jupyter.widget-view+json": {
       "model_id": "9cdecc48ac6e4544a81e0ddeadb51383",
       "version_major": 2,
       "version_minor": 0
      },
      "text/html": [
       "<p>Failed to display Jupyter Widget of type <code>HBox</code>.</p>\n",
       "<p>\n",
       "  If you're reading this message in the Jupyter Notebook or JupyterLab Notebook, it may mean\n",
       "  that the widgets JavaScript is still loading. If this message persists, it\n",
       "  likely means that the widgets JavaScript library is either not installed or\n",
       "  not enabled. See the <a href=\"https://ipywidgets.readthedocs.io/en/stable/user_install.html\">Jupyter\n",
       "  Widgets Documentation</a> for setup instructions.\n",
       "</p>\n",
       "<p>\n",
       "  If you're reading this message in another frontend (for example, a static\n",
       "  rendering on GitHub or <a href=\"https://nbviewer.jupyter.org/\">NBViewer</a>),\n",
       "  it may mean that your frontend doesn't currently support widgets.\n",
       "</p>\n"
      ],
      "text/plain": [
       "HBox(children=(IntProgress(value=0, max=15), HTML(value='')))"
      ]
     },
     "metadata": {},
     "output_type": "display_data"
    },
    {
     "name": "stdout",
     "output_type": "stream",
     "text": [
      "\n"
     ]
    },
    {
     "data": {
      "image/png": "[encoded data removed]",
      "text/plain": [
       "<matplotlib.figure.Figure at 0x16db7398d68>"
      ]
     },
     "metadata": {},
     "output_type": "display_data"
    }
   ],
   "source": [
    "# input / hidden / output units\n",
    "data_used = np.random.permutation(data_used.T).T\n",
    "\n",
    "x_train = data_used[:,:50000]\n",
    "y_train = label_used[:50000]\n",
    "\n",
    "x_test = data_used[:,50000:]\n",
    "y_test = label_used[50000:]\n",
    "\n",
    "x_train = np.mat(normalize_MNIST_images(x_train))\n",
    "x_test = np.mat(normalize_MNIST_images(x_test))\n",
    "d_train = label2onehot(y_train)\n",
    "d_test = label2onehot(y_test)\n",
    "\n",
    "net_paras = [784, 64, 64, 10]\n",
    "net_init = build_net(net_paras)\n",
    "net = back_prop(x_train, d_train, net_init, 15, gamma = 0.03)\n",
    "    "
   ]
  },
  {
   "cell_type": "code",
   "execution_count": null,
   "metadata": {},
   "outputs": [],
   "source": []
  }
 ],
 "metadata": {
  "kernelspec": {
   "display_name": "Python 3",
   "language": "python",
   "name": "python3"
  },
  "language_info": {
   "codemirror_mode": {
    "name": "ipython",
    "version": 3
   },
   "file_extension": ".py",
   "mimetype": "text/x-python",
   "name": "python",
   "nbconvert_exporter": "python",
   "pygments_lexer": "ipython3",
   "version": "3.6.4"
  }
 },
 "nbformat": 4,
 "nbformat_minor": 2
}
